{
 "cells": [
  {
   "cell_type": "markdown",
   "metadata": {},
   "source": [
    "# using the Eindhoven representative networks in PowerModelsDistribution.jl \n",
    "This is a notebook that demonstrates how to load the representative networks of the Eindhoven dataset using PowerModelsDistribution.jl and perform basic operations."
   ]
  },
  {
   "cell_type": "code",
   "execution_count": 1,
   "metadata": {},
   "outputs": [
    {
     "name": "stderr",
     "output_type": "stream",
     "text": [
      "\u001b[32m\u001b[1m  Activating\u001b[22m\u001b[39m project at `c:\\Users\\mnumair\\OneDrive - KU Leuven\\PhD Agenda\\2024\\24-10 October\\TSK-467 RepoRepFed\\Representative-distribution-networks\\RDN_Eindhoven_representative_feeders\\PMD`\n"
     ]
    }
   ],
   "source": [
    "using Pkg\n",
    "Pkg.activate(\".\")"
   ]
  },
  {
   "cell_type": "code",
   "execution_count": 2,
   "metadata": {},
   "outputs": [],
   "source": [
    "using PowerModelsDistribution\n",
    "using Ipopt\n",
    "using FileIO"
   ]
  },
  {
   "cell_type": "markdown",
   "metadata": {},
   "source": [
    "Here you can choose any of the representative networks of and load it as an ENGINEERING model of PowerModelsDistribution.jl using the `load()` with the file name as argument. below an example for loading the first representative feeder."
   ]
  },
  {
   "cell_type": "code",
   "execution_count": 3,
   "metadata": {},
   "outputs": [
    {
     "data": {
      "text/plain": [
       "Dict{String, Any} with 11 entries:\n",
       "  \"conductor_ids\"  => [1, 2, 3, 4]\n",
       "  \"bus\"            => Dict{String, Any}(\"806\"=>Dict{String, Any}(\"rg\"=>[0.0], \"…\n",
       "  \"name\"           => \"rdn1\"\n",
       "  \"settings\"       => Dict{String, Any}(\"sbase_default\"=>100000.0, \"vbases_defa…\n",
       "  \"files\"          => [\"Eindhoven_RDN1.dss\"]\n",
       "  \"voltage_source\" => Dict{String, Any}(\"source\"=>Dict{String, Any}(\"source_id\"…\n",
       "  \"line\"           => Dict{String, Any}(\"320\"=>Dict{String, Any}(\"length\"=>0.00…\n",
       "  \"data_model\"     => ENGINEERING\n",
       "  \"transformer\"    => Dict{String, Any}(\"22\"=>Dict{String, Any}(\"polarity\"=>[1,…\n",
       "  \"load\"           => Dict{String, Any}(\"772100000281694\"=>Dict{String, Any}(\"s…\n",
       "  \"linecode\"       => Dict{String, Any}(\"powersystem_db_lv_nayy_4x120_se\"=>Dict…"
      ]
     },
     "metadata": {},
     "output_type": "display_data"
    }
   ],
   "source": [
    "RDN1 = load(\"Eindhoven_RDN1.jld2\")"
   ]
  },
  {
   "cell_type": "markdown",
   "metadata": {},
   "source": [
    "from the ENGINEERING model `RDN1` it is possible to explore the network:\n",
    "For example, lookup the linecode for the a line in the network:"
   ]
  },
  {
   "cell_type": "code",
   "execution_count": 4,
   "metadata": {},
   "outputs": [
    {
     "data": {
      "text/plain": [
       "\"powersystem_db_lv_nayy_4x120_se\""
      ]
     },
     "metadata": {},
     "output_type": "display_data"
    }
   ],
   "source": [
    "line_lc = RDN1[\"line\"][\"320\"][\"linecode\"]"
   ]
  },
  {
   "cell_type": "markdown",
   "metadata": {},
   "source": [
    "Then we can find the details for that linecode from the `linecode` dictionary:"
   ]
  },
  {
   "cell_type": "code",
   "execution_count": 5,
   "metadata": {},
   "outputs": [
    {
     "data": {
      "text/plain": [
       "Dict{String, Any} with 7 entries:\n",
       "  \"b_fr\"  => [132.0 0.0 0.0; 0.0 132.0 0.0; 0.0 0.0 132.0]\n",
       "  \"rs\"    => [0.225 0.0 0.0; 0.0 0.225 0.0; 0.0 0.0 0.225]\n",
       "  \"cm_ub\" => [600.0, 600.0, 600.0]\n",
       "  \"xs\"    => [0.08 0.0 0.0; 0.0 0.08 0.0; 0.0 0.0 0.08]\n",
       "  \"b_to\"  => [132.0 0.0 0.0; 0.0 132.0 0.0; 0.0 0.0 132.0]\n",
       "  \"g_to\"  => [0.0 0.0 0.0; 0.0 0.0 0.0; 0.0 0.0 0.0]\n",
       "  \"g_fr\"  => [0.0 0.0 0.0; 0.0 0.0 0.0; 0.0 0.0 0.0]"
      ]
     },
     "metadata": {},
     "output_type": "display_data"
    }
   ],
   "source": [
    "RDN1[\"linecode\"][line_lc] "
   ]
  },
  {
   "cell_type": "markdown",
   "metadata": {},
   "source": [
    "and can see the formatted series resistance matrix for that linecode:"
   ]
  },
  {
   "cell_type": "code",
   "execution_count": 6,
   "metadata": {},
   "outputs": [
    {
     "data": {
      "text/plain": [
       "3×3 Matrix{Float64}:\n",
       " 0.225  0.0    0.0\n",
       " 0.0    0.225  0.0\n",
       " 0.0    0.0    0.225"
      ]
     },
     "metadata": {},
     "output_type": "display_data"
    }
   ],
   "source": [
    "RDN1[\"linecode\"][line_lc][\"rs\"]"
   ]
  },
  {
   "cell_type": "markdown",
   "metadata": {},
   "source": [
    "However most of the interesting analysis happens using the MATHEMATICAL model which is used for optimization problems. So we have to transform `RDN1` from the ENGINEERING data model to the MATHEMATICAL model `RDN1_math` "
   ]
  },
  {
   "cell_type": "code",
   "execution_count": 7,
   "metadata": {},
   "outputs": [
    {
     "data": {
      "text/plain": [
       "Dict{String, Any} with 18 entries:\n",
       "  \"is_kron_reduced\" => true\n",
       "  \"conductor_ids\"   => [1, 2, 3]\n",
       "  \"time_elapsed\"    => 1.0\n",
       "  \"bus\"             => Dict{String, Any}(\"32\"=>Dict{String, Any}(\"vm_pair_lb\"=>…\n",
       "  \"name\"            => \"rdn1\"\n",
       "  \"map\"             => Dict{String, Any}[Dict(\"unmap_function\"=>\"_map_math2eng_…\n",
       "  \"settings\"        => Dict{String, Any}(\"sbase_default\"=>100000.0, \"vbases_def…\n",
       "  \"gen\"             => Dict{String, Any}(\"1\"=>Dict{String, Any}(\"pg\"=>[0.0, 0.0…\n",
       "  \"branch\"          => Dict{String, Any}(\"32\"=>Dict{String, Any}(\"br_r\"=>[11.31…\n",
       "  \"storage\"         => Dict{String, Any}()\n",
       "  \"switch\"          => Dict{String, Any}()\n",
       "  \"is_projected\"    => true\n",
       "  \"per_unit\"        => true\n",
       "  \"data_model\"      => MATHEMATICAL\n",
       "  \"shunt\"           => Dict{String, Any}()\n",
       "  \"transformer\"     => Dict{String, Any}(\"1\"=>Dict{String, Any}(\"source_id\"=>\"_…\n",
       "  \"bus_lookup\"      => Dict{Any, Int64}(\"806\"=>1, \"2515\"=>2, \"2473\"=>3, \"101\"=>…\n",
       "  \"load\"            => Dict{String, Any}(\"24\"=>Dict{String, Any}(\"model\"=>POWER…"
      ]
     },
     "metadata": {},
     "output_type": "display_data"
    }
   ],
   "source": [
    "RDN1_math = transform_data_model(RDN1)"
   ]
  },
  {
   "cell_type": "markdown",
   "metadata": {},
   "source": [
    "Then it is possible to perform an optimal power flow (OPF) using `PowerModelsDistribution.jl` functions"
   ]
  },
  {
   "cell_type": "code",
   "execution_count": 8,
   "metadata": {},
   "outputs": [
    {
     "name": "stdout",
     "output_type": "stream",
     "text": [
      "\n",
      "******************************************************************************\n",
      "This program contains Ipopt, a library for large-scale nonlinear optimization.\n",
      " Ipopt is released as open source code under the Eclipse Public License (EPL).\n",
      "         For more information visit https://github.com/coin-or/Ipopt\n",
      "******************************************************************************\n",
      "\n",
      "This is Ipopt version 3.14.17, running with linear solver MUMPS 5.7.3.\n",
      "\n",
      "Number of nonzeros in equality constraint Jacobian...:     7773\n",
      "Number of nonzeros in inequality constraint Jacobian.:     1848\n",
      "Number of nonzeros in Lagrangian Hessian.............:    14964\n",
      "\n",
      "Total number of variables............................:     1173\n",
      "                     variables with only lower bounds:      186\n",
      "                variables with lower and upper bounds:       24\n",
      "                     variables with only upper bounds:        0\n",
      "Total number of equality constraints.................:     1173\n",
      "Total number of inequality constraints...............:      744\n",
      "        inequality constraints with only lower bounds:      192\n",
      "   inequality constraints with lower and upper bounds:        0\n",
      "        inequality constraints with only upper bounds:      552\n",
      "\n",
      "iter    objective    inf_pr   inf_du lg(mu)  ||d||  lg(rg) alpha_du alpha_pr  ls\n",
      "   0  0.0000000e+00 1.17e-03 1.00e+02  -1.0 0.00e+00    -  0.00e+00 0.00e+00   0\n",
      "   1  4.0495636e-01 1.21e-04 1.19e+00  -1.0 8.91e-02    -  1.00e+00 9.90e-01h  1\n",
      "   2  4.3037626e-01 5.26e-06 3.37e+01  -1.0 8.95e-03    -  1.00e+00 9.66e-01h  1\n",
      "   3  4.3068278e-01 3.76e-06 7.31e+04  -1.0 3.84e-04    -  1.00e+00 2.85e-01h  1\n",
      "   4  4.3068584e-01 3.75e-06 3.55e+07  -1.0 2.75e-04    -  1.00e+00 3.98e-03h  1\n",
      "   5  4.3068587e-01 3.75e-06 8.85e+11  -1.0 2.74e-04    -  1.00e+00 3.99e-05h  1\n",
      "   6r 4.3068587e-01 3.75e-06 1.00e+03  -1.0 0.00e+00    -  0.00e+00 3.40e-07R  3\n",
      "   7r-2.6196837e-01 2.47e-04 1.83e+00  -1.0 2.43e-01    -  1.00e+00 1.00e+00f  1\n",
      "   8r 4.4944278e-01 1.67e-04 6.94e-02  -1.7 2.06e-01    -  1.00e+00 1.00e+00f  1\n",
      "   9r 4.8675341e-01 1.94e-05 3.94e+00  -3.8 5.63e-02    -  9.95e-01 9.37e-01f  1\n",
      "iter    objective    inf_pr   inf_du lg(mu)  ||d||  lg(rg) alpha_du alpha_pr  ls\n",
      "  10r 4.4074974e-01 3.74e-06 3.04e+01  -3.8 1.83e-02    -  1.00e+00 8.36e-01f  1\n",
      "  11r 4.3144779e-01 2.48e-06 1.72e-02  -3.8 3.07e-03    -  1.00e+00 1.00e+00f  1\n",
      "  12r 4.3138695e-01 2.48e-06 4.88e-05  -3.8 4.70e-05    -  1.00e+00 1.00e+00f  1\n",
      "  13r 4.3146049e-01 2.49e-06 2.19e+01  -5.7 3.61e-05    -  1.00e+00 8.54e-01f  1\n",
      "  14r 4.3145339e-01 2.49e-06 6.26e-06  -5.7 1.11e-05    -  1.00e+00 1.00e+00f  1\n",
      "  15r 4.3145389e-01 2.49e-06 7.47e-03  -8.6 3.73e-07    -  1.00e+00 9.98e-01f  1\n",
      "  16r 4.3145389e-01 2.49e-06 3.47e-13  -8.6 2.75e-09    -  1.00e+00 1.00e+00f  1\n",
      "\n",
      "Number of Iterations....: 16\n",
      "\n",
      "                                   (scaled)                 (unscaled)\n",
      "Objective...............:   4.3145388564780035e-01    4.3145388564780035e-01\n",
      "Dual infeasibility......:   1.1389415438463005e-08    1.1389415438463005e-08\n",
      "Constraint violation....:   2.4868854153668017e-06    2.4868854153668017e-06\n",
      "Variable bound violation:   0.0000000000000000e+00    0.0000000000000000e+00\n",
      "Complementarity.........:   0.0000000000000000e+00    0.0000000000000000e+00\n",
      "Overall NLP error.......:   2.4868854153668017e-06    2.4868854153668017e-06\n",
      "\n",
      "\n",
      "Number of objective function evaluations             = 21\n",
      "Number of objective gradient evaluations             = 8\n",
      "Number of equality constraint evaluations            = 21\n",
      "Number of inequality constraint evaluations          = 21\n",
      "Number of equality constraint Jacobian evaluations   = 18\n",
      "Number of inequality constraint Jacobian evaluations = 18\n",
      "Number of Lagrangian Hessian evaluations             = 16\n",
      "Total seconds in IPOPT                               = 1.376\n",
      "\n",
      "EXIT: Feasible point for square problem found.\n"
     ]
    },
    {
     "data": {
      "text/plain": [
       "Dict{String, Any} with 8 entries:\n",
       "  \"solve_time\"         => 1.473\n",
       "  \"optimizer\"          => \"Ipopt\"\n",
       "  \"termination_status\" => LOCALLY_SOLVED\n",
       "  \"dual_status\"        => FEASIBLE_POINT\n",
       "  \"primal_status\"      => FEASIBLE_POINT\n",
       "  \"objective\"          => 0.431454\n",
       "  \"solution\"           => Dict{String, Any}(\"branch\"=>Dict{String, Any}(\"32\"=>D…\n",
       "  \"objective_lb\"       => -Inf"
      ]
     },
     "metadata": {},
     "output_type": "display_data"
    }
   ],
   "source": [
    "RDN1_opf = solve_mc_opf(RDN1_math, ACPUPowerModel, Ipopt.Optimizer)"
   ]
  },
  {
   "cell_type": "markdown",
   "metadata": {},
   "source": [
    "Then we can explore the results from the `\"solution\"` dictionary. FOr example we can find the voltage magnitude `vm` and angle `va` for the three phases of the first bus as follows"
   ]
  },
  {
   "cell_type": "code",
   "execution_count": 9,
   "metadata": {},
   "outputs": [
    {
     "data": {
      "text/plain": [
       "Dict{String, Any} with 2 entries:\n",
       "  \"va\" => [-0.0103931, -2.09659, 2.1017]\n",
       "  \"vm\" => [0.985095, 1.00724, 0.998472]"
      ]
     },
     "metadata": {},
     "output_type": "display_data"
    }
   ],
   "source": [
    "RDN1_opf[\"solution\"][\"bus\"][\"1\"]"
   ]
  },
  {
   "cell_type": "markdown",
   "metadata": {},
   "source": [
    "### Notes"
   ]
  },
  {
   "cell_type": "markdown",
   "metadata": {},
   "source": [
    "NOTE 1: All of the above can be done for any of the representative feeders of the dataset, bus simply swapping the file path in the `load()` function."
   ]
  },
  {
   "cell_type": "markdown",
   "metadata": {},
   "source": [
    "NOTE 2: This is just an example of how to load the Spanish representative feeders in PowerModelsDistribution.jl. For more information on how to use PowerModelsDistribution.jl package, please refer to the [documentation](https://lanl-ansi.github.io/PowerModelsDistribution.jl/stable/).\n"
   ]
  }
 ],
 "metadata": {
  "kernelspec": {
   "display_name": "Julia 1.11.2",
   "language": "julia",
   "name": "julia-1.11"
  },
  "language_info": {
   "file_extension": ".jl",
   "mimetype": "application/julia",
   "name": "julia",
   "version": "1.11.2"
  }
 },
 "nbformat": 4,
 "nbformat_minor": 2
}
