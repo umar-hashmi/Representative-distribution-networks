{
 "cells": [
  {
   "cell_type": "markdown",
   "metadata": {},
   "source": [
    "# using the Spanish representative feeders in PowerModelsDistribution.jl \n",
    "This is a notebook that demonstrates how to load the representative feeders of the Spanish dataset using PowerModelsDistribution.jl and perform basic operations."
   ]
  },
  {
   "cell_type": "code",
   "execution_count": 37,
   "metadata": {},
   "outputs": [
    {
     "name": "stderr",
     "output_type": "stream",
     "text": [
      "\u001b[32m\u001b[1m  Activating\u001b[22m\u001b[39m project at `c:\\Users\\mnumair\\OneDrive - KU Leuven\\PhD Agenda\\2024\\24-10 October\\TSK-467 RepoRepFed\\Representative-distribution-networks\\RF_Spanish_representative_feeders\\PMD`\n"
     ]
    }
   ],
   "source": [
    "using Pkg\n",
    "Pkg.activate(\".\")"
   ]
  },
  {
   "cell_type": "code",
   "execution_count": 38,
   "metadata": {},
   "outputs": [],
   "source": [
    "using PowerModelsDistribution\n",
    "using Ipopt\n",
    "using FileIO"
   ]
  },
  {
   "cell_type": "markdown",
   "metadata": {},
   "source": [
    "Here you can choose any of the 6 representative feeders of and load it as an ENGINEERING model of PowerModelsDistribution.jl using the `load()` with the file name as argument. below an example for loading the first representative feeder."
   ]
  },
  {
   "cell_type": "code",
   "execution_count": 39,
   "metadata": {},
   "outputs": [
    {
     "data": {
      "text/plain": [
       "Dict{String, Any} with 12 entries:\n",
       "  \"conductor_ids\"  => [1, 2, 3, 4, 5]\n",
       "  \"bus\"            => Dict{String, Any}(\"2189\"=>Dict{String, Any}(\"lat\"=>43.394…\n",
       "  \"name\"           => \"feeder_160_ntw_td004454\"\n",
       "  \"settings\"       => Dict{String, Any}(\"sbase_default\"=>100000.0, \"vbases_defa…\n",
       "  \"files\"          => [\"C:/Users/mnumair/OneDrive - KU Leuven/PhD Agenda/2024/2…\n",
       "  \"time_series\"    => Dict{String, Any}(\"shape_3933\"=>Dict{String, Any}(\"source…\n",
       "  \"voltage_source\" => Dict{String, Any}(\"source\"=>Dict{String, Any}(\"source_id\"…\n",
       "  \"line\"           => Dict{String, Any}(\"2189\"=>Dict{String, Any}(\"length\"=>23.…\n",
       "  \"data_model\"     => ENGINEERING\n",
       "  \"shunt\"          => Dict{String, Any}(\"line_loop.yngrnd\"=>Dict{String, Any}(\"…\n",
       "  \"load\"           => Dict{String, Any}(\"load8003\"=>Dict{String, Any}(\"source_i…\n",
       "  \"linecode\"       => Dict{String, Any}(\"310\"=>Dict{String, Any}(\"b_fr\"=>[0.001…"
      ]
     },
     "metadata": {},
     "output_type": "display_data"
    }
   ],
   "source": [
    "RF1 = load(\"Spanish_RF1.jld2\")"
   ]
  },
  {
   "cell_type": "markdown",
   "metadata": {},
   "source": [
    "from the ENGINEERING model `RF1` it is possible to explore the network:\n",
    "For example, lookup the linecode for the a line in the network:"
   ]
  },
  {
   "cell_type": "code",
   "execution_count": 40,
   "metadata": {},
   "outputs": [
    {
     "data": {
      "text/plain": [
       "\"217\""
      ]
     },
     "metadata": {},
     "output_type": "display_data"
    }
   ],
   "source": [
    "line1_lc = RF1[\"line\"][\"2211\"][\"linecode\"]"
   ]
  },
  {
   "cell_type": "markdown",
   "metadata": {},
   "source": [
    "Then we can find the details for that linecode from the `linecode` dictionary:"
   ]
  },
  {
   "cell_type": "code",
   "execution_count": 41,
   "metadata": {},
   "outputs": [
    {
     "data": {
      "text/plain": [
       "Dict{String, Any} with 6 entries:\n",
       "  \"b_fr\" => [0.0014 -0.0003 -0.0003 -0.0003; -0.0003 0.0014 -0.0003 -0.0003; -0…\n",
       "  \"rs\"   => [0.00134 0.0 0.0 0.0; 0.0 0.00134 0.0 0.0; 0.0 0.0 0.00134 0.0; 0.0…\n",
       "  \"xs\"   => [9.7e-5 0.0 0.0 0.0; 0.0 9.7e-5 0.0 0.0; 0.0 0.0 9.7e-5 0.0; 0.0 0.…\n",
       "  \"b_to\" => [0.0014 -0.0003 -0.0003 -0.0003; -0.0003 0.0014 -0.0003 -0.0003; -0…\n",
       "  \"g_to\" => [0.0 0.0 0.0 0.0; 0.0 0.0 0.0 0.0; 0.0 0.0 0.0 0.0; 0.0 0.0 0.0 0.0]\n",
       "  \"g_fr\" => [0.0 0.0 0.0 0.0; 0.0 0.0 0.0 0.0; 0.0 0.0 0.0 0.0; 0.0 0.0 0.0 0.0]"
      ]
     },
     "metadata": {},
     "output_type": "display_data"
    }
   ],
   "source": [
    "RF1[\"linecode\"][line1_lc] "
   ]
  },
  {
   "cell_type": "markdown",
   "metadata": {},
   "source": [
    "and can see the formatted series resistance matrix for that linecode:"
   ]
  },
  {
   "cell_type": "code",
   "execution_count": 42,
   "metadata": {},
   "outputs": [
    {
     "data": {
      "text/plain": [
       "4×4 Matrix{Float64}:\n",
       " 0.00134  0.0      0.0      0.0\n",
       " 0.0      0.00134  0.0      0.0\n",
       " 0.0      0.0      0.00134  0.0\n",
       " 0.0      0.0      0.0      0.0006579"
      ]
     },
     "metadata": {},
     "output_type": "display_data"
    }
   ],
   "source": [
    "RF1[\"linecode\"][line1_lc][\"rs\"]"
   ]
  },
  {
   "cell_type": "markdown",
   "metadata": {},
   "source": [
    "However most of the interesting analysis happens using the MATHEMATICAL model which is used for optimization problems. So we have to transform `RF1` from the ENGINEERING data model to the MATHEMATICAL model `RF1_math` "
   ]
  },
  {
   "cell_type": "code",
   "execution_count": 34,
   "metadata": {},
   "outputs": [
    {
     "data": {
      "text/plain": [
       "Dict{String, Any} with 18 entries:\n",
       "  \"is_kron_reduced\" => false\n",
       "  \"conductor_ids\"   => [1, 2, 3, 4, 5]\n",
       "  \"time_elapsed\"    => 1.0\n",
       "  \"bus\"             => Dict{String, Any}(\"32\"=>Dict{String, Any}(\"vm_pair_lb\"=>…\n",
       "  \"name\"            => \"feeder_160_ntw_td004454\"\n",
       "  \"map\"             => Dict{String, Any}[Dict(\"unmap_function\"=>\"_map_math2eng_…\n",
       "  \"settings\"        => Dict{String, Any}(\"sbase_default\"=>100000.0, \"vbases_def…\n",
       "  \"gen\"             => Dict{String, Any}(\"1\"=>Dict{String, Any}(\"pg\"=>[0.0, 0.0…\n",
       "  \"branch\"          => Dict{String, Any}(\"32\"=>Dict{String, Any}(\"br_r\"=>[9.434…\n",
       "  \"storage\"         => Dict{String, Any}()\n",
       "  \"switch\"          => Dict{String, Any}()\n",
       "  \"is_projected\"    => false\n",
       "  \"per_unit\"        => true\n",
       "  \"data_model\"      => MATHEMATICAL\n",
       "  \"shunt\"           => Dict{String, Any}(\"1\"=>Dict{String, Any}(\"source_id\"=>\"s…\n",
       "  \"transformer\"     => Dict{String, Any}()\n",
       "  \"bus_lookup\"      => Dict{Any, Int64}(\"2189\"=>1, \"2198_3\"=>2, \"2229_2\"=>3, \"2…\n",
       "  \"load\"            => Dict{String, Any}(\"24\"=>Dict{String, Any}(\"model\"=>POWER…"
      ]
     },
     "metadata": {},
     "output_type": "display_data"
    }
   ],
   "source": [
    "RF1_math = transform_data_model(RF1, kron_reduce = false, phase_project = false)"
   ]
  },
  {
   "cell_type": "markdown",
   "metadata": {},
   "source": [
    "Then it is possible to perform an optimal power flow (OPF) using `PowerModelsDistribution.jl` functions"
   ]
  },
  {
   "cell_type": "code",
   "execution_count": 35,
   "metadata": {},
   "outputs": [
    {
     "name": "stdout",
     "output_type": "stream",
     "text": [
      "This is Ipopt version 3.14.17, running with linear solver MUMPS 5.7.3.\n",
      "\n",
      "Number of nonzeros in equality constraint Jacobian...:    15128\n",
      "Number of nonzeros in inequality constraint Jacobian.:       12\n",
      "Number of nonzeros in Lagrangian Hessian.............:     1198\n",
      "\n",
      "Total number of variables............................:     4092\n",
      "                     variables with only lower bounds:        0\n",
      "                variables with lower and upper bounds:        6\n",
      "                     variables with only upper bounds:        0\n",
      "Total number of equality constraints.................:     3276\n",
      "Total number of inequality constraints...............:        6\n",
      "        inequality constraints with only lower bounds:        3\n",
      "   inequality constraints with lower and upper bounds:        0\n",
      "        inequality constraints with only upper bounds:        3\n",
      "\n",
      "iter    objective    inf_pr   inf_du lg(mu)  ||d||  lg(rg) alpha_du alpha_pr  ls\n",
      "   0  0.0000000e+00 1.99e-02 9.90e+01  -1.0 0.00e+00    -  0.00e+00 0.00e+00   0\n",
      "   1 -7.7129862e-02 4.75e-04 1.96e+00  -1.0 1.36e+01  -4.0 1.00e+00 9.80e-01h  1\n",
      "   2  1.2049342e-03 4.83e-05 1.26e-01  -2.5 1.37e+01  -4.5 1.00e+00 9.97e-01h  1\n",
      "   3  2.9035019e-02 1.35e-05 5.27e-02  -2.5 3.69e-01  -5.0 1.00e+00 1.00e+00h  1\n",
      "   4  3.2715028e-02 9.17e-06 6.62e+03  -3.8 4.18e-01  -5.4 1.00e+00 5.00e-01h  2\n",
      "   5  3.7785498e-02 9.06e-07 2.86e-02  -3.8 9.23e-02  -5.9 1.00e+00 1.00e+00h  1\n",
      "   6  3.7547027e-02 3.03e-08 1.06e-03  -3.8 1.74e-02  -6.4 1.00e+00 1.00e+00h  1\n",
      "   7  3.7559663e-02 1.36e-11 1.54e-06  -5.7 3.02e-04  -6.9 1.00e+00 1.00e+00h  1\n",
      "   8  3.7559663e-02 1.02e-16 8.67e-13  -8.6 2.40e-07  -7.3 1.00e+00 1.00e+00h  1\n",
      "\n",
      "Number of Iterations....: 8\n",
      "\n",
      "                                   (scaled)                 (unscaled)\n",
      "Objective...............:   3.7559662833406407e-02    3.7559662833406407e-02\n",
      "Dual infeasibility......:   8.6678927924133120e-13    8.6678927924133120e-13\n",
      "Constraint violation....:   1.0205730574877614e-16    1.0205730574877614e-16\n",
      "Variable bound violation:   0.0000000000000000e+00    0.0000000000000000e+00\n",
      "Complementarity.........:   2.5059035596802239e-09    2.5059035596802239e-09\n",
      "Overall NLP error.......:   2.5059035596802239e-09    2.5059035596802239e-09\n",
      "\n",
      "\n",
      "Number of objective function evaluations             = 11\n",
      "Number of objective gradient evaluations             = 9\n",
      "Number of equality constraint evaluations            = 11\n",
      "Number of inequality constraint evaluations          = 11\n",
      "Number of equality constraint Jacobian evaluations   = 9\n",
      "Number of inequality constraint Jacobian evaluations = 9\n",
      "Number of Lagrangian Hessian evaluations             = 8\n",
      "Total seconds in IPOPT                               = 0.067\n",
      "\n",
      "EXIT: Optimal Solution Found.\n"
     ]
    },
    {
     "data": {
      "text/plain": [
       "Dict{String, Any} with 8 entries:\n",
       "  \"solve_time\"         => 0.0709999\n",
       "  \"optimizer\"          => \"Ipopt\"\n",
       "  \"termination_status\" => LOCALLY_SOLVED\n",
       "  \"dual_status\"        => FEASIBLE_POINT\n",
       "  \"primal_status\"      => FEASIBLE_POINT\n",
       "  \"objective\"          => 0.0375597\n",
       "  \"solution\"           => Dict{String, Any}(\"branch\"=>Dict{String, Any}(\"32\"=>D…\n",
       "  \"objective_lb\"       => -Inf"
      ]
     },
     "metadata": {},
     "output_type": "display_data"
    }
   ],
   "source": [
    "add_start_vrvi!(RF1_math)\n",
    "RF1_opf = solve_mc_opf(RF1_math, IVRENPowerModel, Ipopt.Optimizer)"
   ]
  },
  {
   "cell_type": "markdown",
   "metadata": {},
   "source": [
    "Then we can explore the results from the `\"solution\"` dictionary. FOr example we can find the voltage magnitude `vm` and angle `va` for the three phases of the first bus as follows"
   ]
  },
  {
   "cell_type": "code",
   "execution_count": 36,
   "metadata": {},
   "outputs": [
    {
     "data": {
      "text/plain": [
       "Dict{String, Any} with 2 entries:\n",
       "  \"vi\" => [-0.000511702, -0.850207, 0.852181, 0.2942]\n",
       "  \"vr\" => [0.997854, -0.503239, -0.486422, -0.317697]"
      ]
     },
     "metadata": {},
     "output_type": "display_data"
    }
   ],
   "source": [
    "RF1_opf[\"solution\"][\"bus\"][\"1\"]"
   ]
  },
  {
   "cell_type": "markdown",
   "metadata": {},
   "source": [
    "NOTE 1: The all of the above can be done for any of the representative feeders of the dataset, bus simply swapping the file path in the `load()` function."
   ]
  },
  {
   "cell_type": "markdown",
   "metadata": {},
   "source": [
    "NOTE 2: This is just an example of how to load the Spanish representative feeders in PowerModelsDistribution.jl. For more information on how to use PowerModelsDistribution.jl package, please refer to the [documentation](https://lanl-ansi.github.io/PowerModelsDistribution.jl/stable/).\n"
   ]
  }
 ],
 "metadata": {
  "kernelspec": {
   "display_name": "Julia 1.11.2",
   "language": "julia",
   "name": "julia-1.11"
  },
  "language_info": {
   "file_extension": ".jl",
   "mimetype": "application/julia",
   "name": "julia",
   "version": "1.11.2"
  }
 },
 "nbformat": 4,
 "nbformat_minor": 2
}
