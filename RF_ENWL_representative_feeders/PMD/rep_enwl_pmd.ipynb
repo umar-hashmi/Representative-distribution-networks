{
 "cells": [
  {
   "cell_type": "markdown",
   "metadata": {},
   "source": [
    "# using the ENWL representative feeders in PowerModelsDistribution.jl \n",
    "This is a notebook that demonstrates how to load the representative feeders of the ENWL data set using PowerModelsDistribution.jl and perform basic operations."
   ]
  },
  {
   "cell_type": "code",
   "execution_count": 15,
   "metadata": {},
   "outputs": [
    {
     "name": "stderr",
     "output_type": "stream",
     "text": [
      "\u001b[32m\u001b[1m  Activating\u001b[22m\u001b[39m project at `c:\\Users\\mnumair\\OneDrive - KU Leuven\\PhD Agenda\\2024\\24-10 October\\TSK-467 RepoRepFed\\Representative-distribution-networks\\RF_ENWL_representative_feeders\\PMD`\n"
     ]
    }
   ],
   "source": [
    "using Pkg\n",
    "Pkg.activate(\".\")"
   ]
  },
  {
   "cell_type": "code",
   "execution_count": 16,
   "metadata": {},
   "outputs": [],
   "source": [
    "using PowerModelsDistribution\n",
    "using Ipopt\n",
    "using FileIO"
   ]
  },
  {
   "cell_type": "markdown",
   "metadata": {},
   "source": [
    "Here you can choose any of the 4 representative feeders of and load it as an ENGINEERING model of PowerModelsDistribution.jl using the `load()` with the file name as argument. below an example for loading the first representative feeder."
   ]
  },
  {
   "cell_type": "code",
   "execution_count": 17,
   "metadata": {},
   "outputs": [
    {
     "data": {
      "text/plain": [
       "Dict{String, Any} with 10 entries:\n",
       "  \"voltage_source\" => Dict{String, Any}(\"source\"=>Dict{String, Any}(\"source_id\"…\n",
       "  \"name\"           => \"ntw_2_fdr_5\"\n",
       "  \"line\"           => Dict{String, Any}(\"line96\"=>Dict{String, Any}(\"length\"=>0…\n",
       "  \"conductor_ids\"  => [1, 2, 3, 4]\n",
       "  \"settings\"       => Dict{String, Any}(\"sbase_default\"=>100000.0, \"vbases_defa…\n",
       "  \"files\"          => [\"C:/Users/mnumair/OneDrive - KU Leuven/PhD Files/2- Repo…\n",
       "  \"load\"           => Dict{String, Any}(\"load2\"=>Dict{String, Any}(\"source_id\"=…\n",
       "  \"bus\"            => Dict{String, Any}(\"109\"=>Dict{String, Any}(\"lat\"=>273.787…\n",
       "  \"linecode\"       => Dict{String, Any}(\"3c_300_sac_xc\"=>Dict{String, Any}(\"b_f…\n",
       "  \"data_model\"     => ENGINEERING"
      ]
     },
     "metadata": {},
     "output_type": "display_data"
    }
   ],
   "source": [
    "RF1 = load(\"ENWL_RF1.jld2\")"
   ]
  },
  {
   "cell_type": "markdown",
   "metadata": {},
   "source": [
    "from the ENGINEERING model `RF1` it is possible to explore the network:\n",
    "For example, lookup the linecode for the first line in the network:"
   ]
  },
  {
   "cell_type": "code",
   "execution_count": 18,
   "metadata": {},
   "outputs": [
    {
     "data": {
      "text/plain": [
       "\"3c_300_sac_xc\""
      ]
     },
     "metadata": {},
     "output_type": "display_data"
    }
   ],
   "source": [
    "line1_lc = RF1[\"line\"][\"line1\"][\"linecode\"]"
   ]
  },
  {
   "cell_type": "markdown",
   "metadata": {},
   "source": [
    "Then we can find the details for that linecode from the `linecode` dictionary:"
   ]
  },
  {
   "cell_type": "code",
   "execution_count": 22,
   "metadata": {},
   "outputs": [
    {
     "data": {
      "text/plain": [
       "Dict{String, Any} with 7 entries:\n",
       "  \"b_fr\"  => [0.0 0.0 0.0; 0.0 0.0 0.0; 0.0 0.0 0.0]\n",
       "  \"rs\"    => [0.000266 0.000164 0.000164; 0.000164 0.000266 0.000164; 0.000164 …\n",
       "  \"cm_ub\" => [600.0, 600.0, 600.0]\n",
       "  \"xs\"    => [8.36667e-5 1.06667e-5 1.06667e-5; 1.06667e-5 8.36667e-5 1.06667e-…\n",
       "  \"b_to\"  => [0.0 0.0 0.0; 0.0 0.0 0.0; 0.0 0.0 0.0]\n",
       "  \"g_to\"  => [0.0 0.0 0.0; 0.0 0.0 0.0; 0.0 0.0 0.0]\n",
       "  \"g_fr\"  => [0.0 0.0 0.0; 0.0 0.0 0.0; 0.0 0.0 0.0]"
      ]
     },
     "metadata": {},
     "output_type": "display_data"
    }
   ],
   "source": [
    "RF1[\"linecode\"][line1_lc] "
   ]
  },
  {
   "cell_type": "markdown",
   "metadata": {},
   "source": [
    "and can see the formatted series resistance matrix for that linecode:"
   ]
  },
  {
   "cell_type": "code",
   "execution_count": 23,
   "metadata": {},
   "outputs": [
    {
     "data": {
      "text/plain": [
       "3×3 Matrix{Float64}:\n",
       " 0.000266  0.000164  0.000164\n",
       " 0.000164  0.000266  0.000164\n",
       " 0.000164  0.000164  0.000266"
      ]
     },
     "metadata": {},
     "output_type": "display_data"
    }
   ],
   "source": [
    "RF1[\"linecode\"][line1_lc][\"rs\"]"
   ]
  },
  {
   "cell_type": "markdown",
   "metadata": {},
   "source": [
    "However most of the interesting analysis happens using the MATHEMATICAL model which is used for optimization problems. So we have to transform `RF1` from the ENGINEERING data model to the MATHEMATICAL model `RF1_math` "
   ]
  },
  {
   "cell_type": "code",
   "execution_count": 20,
   "metadata": {},
   "outputs": [
    {
     "data": {
      "text/plain": [
       "Dict{String, Any} with 18 entries:\n",
       "  \"is_kron_reduced\" => true\n",
       "  \"conductor_ids\"   => [1, 2, 3]\n",
       "  \"time_elapsed\"    => 1.0\n",
       "  \"bus\"             => Dict{String, Any}(\"306\"=>Dict{String, Any}(\"vm_pair_lb\"=…\n",
       "  \"name\"            => \"ntw_2_fdr_5\"\n",
       "  \"map\"             => Dict{String, Any}[Dict(\"unmap_function\"=>\"_map_math2eng_…\n",
       "  \"settings\"        => Dict{String, Any}(\"sbase_default\"=>100000.0, \"vbases_def…\n",
       "  \"gen\"             => Dict{String, Any}(\"1\"=>Dict{String, Any}(\"pg\"=>[0.0, 0.0…\n",
       "  \"branch\"          => Dict{String, Any}(\"306\"=>Dict{String, Any}(\"br_r\"=>[3.76…\n",
       "  \"storage\"         => Dict{String, Any}()\n",
       "  \"switch\"          => Dict{String, Any}()\n",
       "  \"is_projected\"    => true\n",
       "  \"per_unit\"        => true\n",
       "  \"data_model\"      => MATHEMATICAL\n",
       "  \"shunt\"           => Dict{String, Any}()\n",
       "  \"transformer\"     => Dict{String, Any}()\n",
       "  \"bus_lookup\"      => Dict{Any, Int64}(\"153\"=>308, \"54\"=>2, \"101\"=>3, \"41\"=>4,…\n",
       "  \"load\"            => Dict{String, Any}(\"4\"=>Dict{String, Any}(\"model\"=>POWER,…"
      ]
     },
     "metadata": {},
     "output_type": "display_data"
    }
   ],
   "source": [
    "RF1_math = transform_data_model(RF1)"
   ]
  },
  {
   "cell_type": "markdown",
   "metadata": {},
   "source": [
    "Then it is possible to perform an optimal power flow (OPF) using `PowerModelsDistribution.jl` functions"
   ]
  },
  {
   "cell_type": "code",
   "execution_count": 32,
   "metadata": {},
   "outputs": [
    {
     "name": "stdout",
     "output_type": "stream",
     "text": [
      "\n",
      "******************************************************************************\n",
      "This program contains Ipopt, a library for large-scale nonlinear optimization.\n",
      " Ipopt is released as open source code under the Eclipse Public License (EPL).\n",
      "         For more information visit https://github.com/coin-or/Ipopt\n",
      "******************************************************************************\n",
      "\n",
      "This is Ipopt version 3.14.17, running with linear solver MUMPS 5.7.3.\n",
      "\n",
      "Number of nonzeros in equality constraint Jacobian...:    44853\n",
      "Number of nonzeros in inequality constraint Jacobian.:     9222\n",
      "Number of nonzeros in Lagrangian Hessian.............:   111474\n",
      "\n",
      "Total number of variables............................:     5553\n",
      "                     variables with only lower bounds:      924\n",
      "                variables with lower and upper bounds:        0\n",
      "                     variables with only upper bounds:        0\n",
      "Total number of equality constraints.................:     5553\n",
      "Total number of inequality constraints...............:     3690\n",
      "        inequality constraints with only lower bounds:      924\n",
      "   inequality constraints with lower and upper bounds:        0\n",
      "        inequality constraints with only upper bounds:     2766\n",
      "\n",
      "iter    objective    inf_pr   inf_du lg(mu)  ||d||  lg(rg) alpha_du alpha_pr  ls\n",
      "   0  0.0000000e+00 1.00e-05 1.00e+02  -1.0 0.00e+00    -  0.00e+00 0.00e+00   0\n",
      "   1  2.2774600e-02 9.70e-07 9.80e-01  -1.0 1.61e-02    -  1.00e+00 9.90e-01h  1\n",
      "   2  2.3205004e-02 7.53e-10 9.14e-03  -2.5 4.67e-04    -  1.00e+00 1.00e+00h  1\n",
      "   3  2.3205126e-02 7.67e-14 1.29e-07  -3.8 2.43e-07    -  1.00e+00 1.00e+00h  1\n",
      "   4  2.3205126e-02 6.24e-14 3.67e-11  -5.7 4.10e-11    -  1.00e+00 1.00e+00h  1\n",
      "   5  2.3205126e-02 7.84e-14 6.84e-01  -8.6 3.21e-11    -  1.00e+00 2.50e-01h  3\n",
      "   6  2.3205126e-02 6.37e-14 5.13e-01  -8.6 2.75e-11    -  1.00e+00 2.50e-01h  3\n",
      "   7  2.3205126e-02 6.77e-14 5.13e-01  -8.6 2.56e-11    -  1.00e+00 6.10e-05h 15\n",
      "   8  2.3205126e-02 5.39e-14 5.13e-01  -8.6 2.63e-11    -  1.00e+00 3.81e-06h 19\n",
      "   9  2.3205126e-02 6.07e-14 4.49e-01  -8.6 2.25e-11    -  1.00e+00 1.25e-01h  4\n",
      "iter    objective    inf_pr   inf_du lg(mu)  ||d||  lg(rg) alpha_du alpha_pr  ls\n",
      "  10  2.3205126e-02 6.07e-14 4.49e-01  -8.6 1.55e-11    -  1.00e+00 3.81e-06h 19\n",
      "  11  2.3205126e-02 7.93e-14 1.61e-11  -8.6 1.55e-11    -  1.00e+00 1.00e+00s 22\n",
      "\n",
      "Number of Iterations....: 11\n",
      "\n",
      "                                   (scaled)                 (unscaled)\n",
      "Objective...............:   2.3205125969833599e-02    2.3205125969833599e-02\n",
      "Dual infeasibility......:   1.6067383149173620e-11    1.6067383149173620e-11\n",
      "Constraint violation....:   7.9253566057958802e-14    7.9253566057958802e-14\n",
      "Variable bound violation:   0.0000000000000000e+00    0.0000000000000000e+00\n",
      "Complementarity.........:   2.5059035596800568e-09    2.5059035596800568e-09\n",
      "Overall NLP error.......:   2.5059035596800568e-09    2.5059035596800568e-09\n",
      "\n",
      "\n",
      "Number of objective function evaluations             = 97\n",
      "Number of objective gradient evaluations             = 12\n",
      "Number of equality constraint evaluations            = 97\n",
      "Number of inequality constraint evaluations          = 97\n",
      "Number of equality constraint Jacobian evaluations   = 12\n",
      "Number of inequality constraint Jacobian evaluations = 12\n",
      "Number of Lagrangian Hessian evaluations             = 11\n",
      "Total seconds in IPOPT                               = 2.515\n",
      "\n",
      "EXIT: Optimal Solution Found.\n"
     ]
    },
    {
     "data": {
      "text/plain": [
       "Dict{String, Any} with 8 entries:\n",
       "  \"solve_time\"         => 3.003\n",
       "  \"optimizer\"          => \"Ipopt\"\n",
       "  \"termination_status\" => LOCALLY_SOLVED\n",
       "  \"dual_status\"        => FEASIBLE_POINT\n",
       "  \"primal_status\"      => FEASIBLE_POINT\n",
       "  \"objective\"          => 0.0232051\n",
       "  \"solution\"           => Dict{String, Any}(\"branch\"=>Dict{String, Any}(\"306\"=>…\n",
       "  \"objective_lb\"       => -Inf"
      ]
     },
     "metadata": {},
     "output_type": "display_data"
    }
   ],
   "source": [
    "RF1_opf = solve_mc_opf(RF1_math, ACPUPowerModel, Ipopt.Optimizer)"
   ]
  },
  {
   "cell_type": "markdown",
   "metadata": {},
   "source": [
    "Then we can explore the results from the `\"solution\"` dictionary. FOr example we can find the voltage magnitude `vm` and angle `va` for the three phases of the first bus as follows"
   ]
  },
  {
   "cell_type": "code",
   "execution_count": 33,
   "metadata": {},
   "outputs": [
    {
     "data": {
      "text/plain": [
       "Dict{String, Any} with 2 entries:\n",
       "  \"va\" => [-0.0103246, -2.10709, 2.08696]\n",
       "  \"vm\" => [0.98402, 0.986005, 0.992666]"
      ]
     },
     "metadata": {},
     "output_type": "display_data"
    }
   ],
   "source": [
    "RF1_opf[\"solution\"][\"bus\"][\"1\"]"
   ]
  },
  {
   "cell_type": "markdown",
   "metadata": {},
   "source": [
    "### Notes"
   ]
  },
  {
   "cell_type": "markdown",
   "metadata": {},
   "source": [
    "NOTE 1: All of the above can be done for any of the 4 representative feeders of the ENWL data set, bus simply swapping the file path in the `load()` function."
   ]
  },
  {
   "cell_type": "markdown",
   "metadata": {},
   "source": [
    "NOTE 2: This is just an example of how to load the ENWL representative feeders in PowerModelsDistribution.jl. For more information on how to use PowerModelsDistribution.jl package, please refer to the [documentation](https://lanl-ansi.github.io/PowerModelsDistribution.jl/stable/).\n"
   ]
  }
 ],
 "metadata": {
  "kernelspec": {
   "display_name": "Julia 1.11.2",
   "language": "julia",
   "name": "julia-1.11"
  },
  "language_info": {
   "file_extension": ".jl",
   "mimetype": "application/julia",
   "name": "julia",
   "version": "1.11.2"
  }
 },
 "nbformat": 4,
 "nbformat_minor": 2
}
